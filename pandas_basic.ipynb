{
  "nbformat": 4,
  "nbformat_minor": 0,
  "metadata": {
    "colab": {
      "name": "pandas_basic.ipynb",
      "provenance": [],
      "toc_visible": true,
      "authorship_tag": "ABX9TyNT2bE77CSUABfP9EYi0RQ5",
      "include_colab_link": true
    },
    "kernelspec": {
      "name": "python3",
      "display_name": "Python 3"
    },
    "language_info": {
      "name": "python"
    }
  },
  "cells": [
    {
      "cell_type": "markdown",
      "metadata": {
        "id": "view-in-github",
        "colab_type": "text"
      },
      "source": [
        "<a href=\"https://colab.research.google.com/github/hanbeen1992/python/blob/main/pandas_basic.ipynb\" target=\"_parent\"><img src=\"https://colab.research.google.com/assets/colab-badge.svg\" alt=\"Open In Colab\"/></a>"
      ]
    },
    {
      "cell_type": "markdown",
      "metadata": {
        "id": "BMYegXj5xwcV"
      },
      "source": [
        "# python pandas 정리"
      ]
    },
    {
      "cell_type": "markdown",
      "metadata": {
        "id": "QpcIxIm9Kuhc"
      },
      "source": [
        "판다스는 파이썬에서 데이터 처리를 위해 존재하는 가장 인기 있는 라이브러리이다. 일반적으로 대부분의 데이터 세트는 <strong>2차원 데이터</strong>입니다. **행(Row)** X **열(column)**로 구성되어 있다."
      ]
    },
    {
      "cell_type": "markdown",
      "metadata": {
        "id": "p6BAnVytLYLy"
      },
      "source": [
        "판다스의 핵심객체는 DataFrame.\n",
        "여러 개의 행가 열로 이뤄진 2차원 데이터를  담는 데이터 구조체이다."
      ]
    },
    {
      "cell_type": "markdown",
      "metadata": {
        "id": "QHjX3ZKdxtdU"
      },
      "source": [
        "라이브러리 불러오기"
      ]
    },
    {
      "cell_type": "code",
      "metadata": {
        "colab": {
          "base_uri": "https://localhost:8080/"
        },
        "id": "5_bZd-abrnJ4",
        "outputId": "63221f13-6f0c-409c-f73d-498c82858db8"
      },
      "source": [
        "import pandas as pd\n",
        "print(pd.__version__)"
      ],
      "execution_count": 1,
      "outputs": [
        {
          "output_type": "stream",
          "name": "stdout",
          "text": [
            "1.1.5\n"
          ]
        }
      ]
    },
    {
      "cell_type": "markdown",
      "metadata": {
        "id": "Y1Mj6Nlmr5tk"
      },
      "source": [
        "테스트"
      ]
    },
    {
      "cell_type": "code",
      "metadata": {
        "colab": {
          "base_uri": "https://localhost:8080/"
        },
        "id": "8uPOMOqmsAJq",
        "outputId": "ce90c55b-6d8d-4026-d976-224bd6fbe5ac"
      },
      "source": [
        "df = pd.DataFrame({'col1':[1,2],'col2': [3,4]})\n",
        "print(type(df))"
      ],
      "execution_count": 2,
      "outputs": [
        {
          "output_type": "stream",
          "name": "stdout",
          "text": [
            "<class 'pandas.core.frame.DataFrame'>\n"
          ]
        }
      ]
    },
    {
      "cell_type": "markdown",
      "metadata": {
        "id": "QDBANvHbx-vf"
      },
      "source": [
        "구글 드라이브 연동"
      ]
    },
    {
      "cell_type": "code",
      "metadata": {
        "colab": {
          "base_uri": "https://localhost:8080/"
        },
        "id": "4MKetrLHyHFG",
        "outputId": "3a031320-61b0-4f9b-deb2-75d3ecb26ea3"
      },
      "source": [
        "from google.colab import drive\n",
        "drive.mount('/content/drive')"
      ],
      "execution_count": 3,
      "outputs": [
        {
          "output_type": "stream",
          "name": "stdout",
          "text": [
            "Mounted at /content/drive\n"
          ]
        }
      ]
    },
    {
      "cell_type": "code",
      "metadata": {
        "colab": {
          "base_uri": "https://localhost:8080/"
        },
        "id": "UC6oJaK5yiFi",
        "outputId": "84a40482-c3da-48c6-dc6f-13fdf2c43d19"
      },
      "source": [
        "# DATA_PATH = '경로를 입력하세요'\n",
        "# 경로는 다음과 같이 설정한다.\n",
        "DATA_PATH = '/content/drive/MyDrive/Colab Notebooks/lectures_210923/PART_I_Intro/data/Lemonade2016.csv'\n",
        "lemonade = pd.read_csv(DATA_PATH)\n",
        "lemonade.info()"
      ],
      "execution_count": 4,
      "outputs": [
        {
          "output_type": "stream",
          "name": "stdout",
          "text": [
            "<class 'pandas.core.frame.DataFrame'>\n",
            "RangeIndex: 32 entries, 0 to 31\n",
            "Data columns (total 7 columns):\n",
            " #   Column       Non-Null Count  Dtype  \n",
            "---  ------       --------------  -----  \n",
            " 0   Date         31 non-null     object \n",
            " 1   Location     32 non-null     object \n",
            " 2   Lemon        32 non-null     int64  \n",
            " 3   Orange       32 non-null     int64  \n",
            " 4   Temperature  32 non-null     int64  \n",
            " 5   Leaflets     31 non-null     float64\n",
            " 6   Price        32 non-null     float64\n",
            "dtypes: float64(2), int64(3), object(2)\n",
            "memory usage: 1.9+ KB\n"
          ]
        }
      ]
    },
    {
      "cell_type": "markdown",
      "metadata": {
        "id": "aA0U8jGD3kCH"
      },
      "source": [
        "# 데이터 불러오기"
      ]
    },
    {
      "cell_type": "code",
      "metadata": {
        "colab": {
          "base_uri": "https://localhost:8080/",
          "height": 206
        },
        "id": "-iNCQPHOzNYk",
        "outputId": "84bf7331-3a63-4f2a-e59a-97c8940e7791"
      },
      "source": [
        "lemonade.head(5)\n",
        "#앞에서부터 5개의 데이터 값을 불러온다"
      ],
      "execution_count": 8,
      "outputs": [
        {
          "output_type": "execute_result",
          "data": {
            "text/html": [
              "<div>\n",
              "<style scoped>\n",
              "    .dataframe tbody tr th:only-of-type {\n",
              "        vertical-align: middle;\n",
              "    }\n",
              "\n",
              "    .dataframe tbody tr th {\n",
              "        vertical-align: top;\n",
              "    }\n",
              "\n",
              "    .dataframe thead th {\n",
              "        text-align: right;\n",
              "    }\n",
              "</style>\n",
              "<table border=\"1\" class=\"dataframe\">\n",
              "  <thead>\n",
              "    <tr style=\"text-align: right;\">\n",
              "      <th></th>\n",
              "      <th>Date</th>\n",
              "      <th>Location</th>\n",
              "      <th>Lemon</th>\n",
              "      <th>Orange</th>\n",
              "      <th>Temperature</th>\n",
              "      <th>Leaflets</th>\n",
              "      <th>Price</th>\n",
              "    </tr>\n",
              "  </thead>\n",
              "  <tbody>\n",
              "    <tr>\n",
              "      <th>0</th>\n",
              "      <td>7/1/2016</td>\n",
              "      <td>Park</td>\n",
              "      <td>97</td>\n",
              "      <td>67</td>\n",
              "      <td>70</td>\n",
              "      <td>90.0</td>\n",
              "      <td>0.25</td>\n",
              "    </tr>\n",
              "    <tr>\n",
              "      <th>1</th>\n",
              "      <td>7/2/2016</td>\n",
              "      <td>Park</td>\n",
              "      <td>98</td>\n",
              "      <td>67</td>\n",
              "      <td>72</td>\n",
              "      <td>90.0</td>\n",
              "      <td>0.25</td>\n",
              "    </tr>\n",
              "    <tr>\n",
              "      <th>2</th>\n",
              "      <td>7/3/2016</td>\n",
              "      <td>Park</td>\n",
              "      <td>110</td>\n",
              "      <td>77</td>\n",
              "      <td>71</td>\n",
              "      <td>104.0</td>\n",
              "      <td>0.25</td>\n",
              "    </tr>\n",
              "    <tr>\n",
              "      <th>3</th>\n",
              "      <td>7/4/2016</td>\n",
              "      <td>Beach</td>\n",
              "      <td>134</td>\n",
              "      <td>99</td>\n",
              "      <td>76</td>\n",
              "      <td>98.0</td>\n",
              "      <td>0.25</td>\n",
              "    </tr>\n",
              "    <tr>\n",
              "      <th>4</th>\n",
              "      <td>7/5/2016</td>\n",
              "      <td>Beach</td>\n",
              "      <td>159</td>\n",
              "      <td>118</td>\n",
              "      <td>78</td>\n",
              "      <td>135.0</td>\n",
              "      <td>0.25</td>\n",
              "    </tr>\n",
              "  </tbody>\n",
              "</table>\n",
              "</div>"
            ],
            "text/plain": [
              "       Date Location  Lemon  Orange  Temperature  Leaflets  Price\n",
              "0  7/1/2016     Park     97      67           70      90.0   0.25\n",
              "1  7/2/2016     Park     98      67           72      90.0   0.25\n",
              "2  7/3/2016     Park    110      77           71     104.0   0.25\n",
              "3  7/4/2016    Beach    134      99           76      98.0   0.25\n",
              "4  7/5/2016    Beach    159     118           78     135.0   0.25"
            ]
          },
          "metadata": {},
          "execution_count": 8
        }
      ]
    },
    {
      "cell_type": "code",
      "metadata": {
        "colab": {
          "base_uri": "https://localhost:8080/",
          "height": 143
        },
        "id": "2U7B1jNWzU34",
        "outputId": "565361e6-76ed-4d87-977b-8cec625b1255"
      },
      "source": [
        "lemonade.tail(3)\n",
        "#뒤에서부터 3개의 데이터 값을 불러온다"
      ],
      "execution_count": 6,
      "outputs": [
        {
          "output_type": "execute_result",
          "data": {
            "text/html": [
              "<div>\n",
              "<style scoped>\n",
              "    .dataframe tbody tr th:only-of-type {\n",
              "        vertical-align: middle;\n",
              "    }\n",
              "\n",
              "    .dataframe tbody tr th {\n",
              "        vertical-align: top;\n",
              "    }\n",
              "\n",
              "    .dataframe thead th {\n",
              "        text-align: right;\n",
              "    }\n",
              "</style>\n",
              "<table border=\"1\" class=\"dataframe\">\n",
              "  <thead>\n",
              "    <tr style=\"text-align: right;\">\n",
              "      <th></th>\n",
              "      <th>Date</th>\n",
              "      <th>Location</th>\n",
              "      <th>Lemon</th>\n",
              "      <th>Orange</th>\n",
              "      <th>Temperature</th>\n",
              "      <th>Leaflets</th>\n",
              "      <th>Price</th>\n",
              "    </tr>\n",
              "  </thead>\n",
              "  <tbody>\n",
              "    <tr>\n",
              "      <th>29</th>\n",
              "      <td>7/29/2016</td>\n",
              "      <td>Park</td>\n",
              "      <td>100</td>\n",
              "      <td>66</td>\n",
              "      <td>81</td>\n",
              "      <td>95.0</td>\n",
              "      <td>0.35</td>\n",
              "    </tr>\n",
              "    <tr>\n",
              "      <th>30</th>\n",
              "      <td>7/30/2016</td>\n",
              "      <td>Beach</td>\n",
              "      <td>88</td>\n",
              "      <td>57</td>\n",
              "      <td>82</td>\n",
              "      <td>81.0</td>\n",
              "      <td>0.35</td>\n",
              "    </tr>\n",
              "    <tr>\n",
              "      <th>31</th>\n",
              "      <td>7/31/2016</td>\n",
              "      <td>Beach</td>\n",
              "      <td>76</td>\n",
              "      <td>47</td>\n",
              "      <td>82</td>\n",
              "      <td>68.0</td>\n",
              "      <td>0.35</td>\n",
              "    </tr>\n",
              "  </tbody>\n",
              "</table>\n",
              "</div>"
            ],
            "text/plain": [
              "         Date Location  Lemon  Orange  Temperature  Leaflets  Price\n",
              "29  7/29/2016     Park    100      66           81      95.0   0.35\n",
              "30  7/30/2016    Beach     88      57           82      81.0   0.35\n",
              "31  7/31/2016    Beach     76      47           82      68.0   0.35"
            ]
          },
          "metadata": {},
          "execution_count": 6
        }
      ]
    },
    {
      "cell_type": "code",
      "metadata": {
        "colab": {
          "base_uri": "https://localhost:8080/"
        },
        "id": "vyfftmp3zvO3",
        "outputId": "ab1fd90d-9c83-4f30-a2a4-fe9116ac7531"
      },
      "source": [
        "print(lemonade.info())\n",
        "#데이터 정보를 출력한다."
      ],
      "execution_count": 9,
      "outputs": [
        {
          "output_type": "stream",
          "name": "stdout",
          "text": [
            "<class 'pandas.core.frame.DataFrame'>\n",
            "RangeIndex: 32 entries, 0 to 31\n",
            "Data columns (total 7 columns):\n",
            " #   Column       Non-Null Count  Dtype  \n",
            "---  ------       --------------  -----  \n",
            " 0   Date         31 non-null     object \n",
            " 1   Location     32 non-null     object \n",
            " 2   Lemon        32 non-null     int64  \n",
            " 3   Orange       32 non-null     int64  \n",
            " 4   Temperature  32 non-null     int64  \n",
            " 5   Leaflets     31 non-null     float64\n",
            " 6   Price        32 non-null     float64\n",
            "dtypes: float64(2), int64(3), object(2)\n",
            "memory usage: 1.9+ KB\n",
            "None\n"
          ]
        }
      ]
    },
    {
      "cell_type": "code",
      "metadata": {
        "colab": {
          "base_uri": "https://localhost:8080/",
          "height": 300
        },
        "id": "if3B457v0Er4",
        "outputId": "cb885a56-fa01-4c74-edb2-d97fa3d70748"
      },
      "source": [
        "lemonade.describe()\n",
        "# describe() 함수를 사용하면 수치형 변수만을 기준으로 카운트, 평균, 표준편차, 최소/최대값, 4분의 수를 기준으로 25%, 50%, 75% 에 해당하는 값들을 테이블로 출력한다."
      ],
      "execution_count": 10,
      "outputs": [
        {
          "output_type": "execute_result",
          "data": {
            "text/html": [
              "<div>\n",
              "<style scoped>\n",
              "    .dataframe tbody tr th:only-of-type {\n",
              "        vertical-align: middle;\n",
              "    }\n",
              "\n",
              "    .dataframe tbody tr th {\n",
              "        vertical-align: top;\n",
              "    }\n",
              "\n",
              "    .dataframe thead th {\n",
              "        text-align: right;\n",
              "    }\n",
              "</style>\n",
              "<table border=\"1\" class=\"dataframe\">\n",
              "  <thead>\n",
              "    <tr style=\"text-align: right;\">\n",
              "      <th></th>\n",
              "      <th>Lemon</th>\n",
              "      <th>Orange</th>\n",
              "      <th>Temperature</th>\n",
              "      <th>Leaflets</th>\n",
              "      <th>Price</th>\n",
              "    </tr>\n",
              "  </thead>\n",
              "  <tbody>\n",
              "    <tr>\n",
              "      <th>count</th>\n",
              "      <td>32.000000</td>\n",
              "      <td>32.000000</td>\n",
              "      <td>32.000000</td>\n",
              "      <td>31.000000</td>\n",
              "      <td>32.000000</td>\n",
              "    </tr>\n",
              "    <tr>\n",
              "      <th>mean</th>\n",
              "      <td>116.156250</td>\n",
              "      <td>80.000000</td>\n",
              "      <td>78.968750</td>\n",
              "      <td>108.548387</td>\n",
              "      <td>0.354687</td>\n",
              "    </tr>\n",
              "    <tr>\n",
              "      <th>std</th>\n",
              "      <td>25.823357</td>\n",
              "      <td>21.863211</td>\n",
              "      <td>4.067847</td>\n",
              "      <td>20.117718</td>\n",
              "      <td>0.113137</td>\n",
              "    </tr>\n",
              "    <tr>\n",
              "      <th>min</th>\n",
              "      <td>71.000000</td>\n",
              "      <td>42.000000</td>\n",
              "      <td>70.000000</td>\n",
              "      <td>68.000000</td>\n",
              "      <td>0.250000</td>\n",
              "    </tr>\n",
              "    <tr>\n",
              "      <th>25%</th>\n",
              "      <td>98.000000</td>\n",
              "      <td>66.750000</td>\n",
              "      <td>77.000000</td>\n",
              "      <td>90.000000</td>\n",
              "      <td>0.250000</td>\n",
              "    </tr>\n",
              "    <tr>\n",
              "      <th>50%</th>\n",
              "      <td>113.500000</td>\n",
              "      <td>76.500000</td>\n",
              "      <td>80.500000</td>\n",
              "      <td>108.000000</td>\n",
              "      <td>0.350000</td>\n",
              "    </tr>\n",
              "    <tr>\n",
              "      <th>75%</th>\n",
              "      <td>131.750000</td>\n",
              "      <td>95.000000</td>\n",
              "      <td>82.000000</td>\n",
              "      <td>124.000000</td>\n",
              "      <td>0.500000</td>\n",
              "    </tr>\n",
              "    <tr>\n",
              "      <th>max</th>\n",
              "      <td>176.000000</td>\n",
              "      <td>129.000000</td>\n",
              "      <td>84.000000</td>\n",
              "      <td>158.000000</td>\n",
              "      <td>0.500000</td>\n",
              "    </tr>\n",
              "  </tbody>\n",
              "</table>\n",
              "</div>"
            ],
            "text/plain": [
              "            Lemon      Orange  Temperature    Leaflets      Price\n",
              "count   32.000000   32.000000    32.000000   31.000000  32.000000\n",
              "mean   116.156250   80.000000    78.968750  108.548387   0.354687\n",
              "std     25.823357   21.863211     4.067847   20.117718   0.113137\n",
              "min     71.000000   42.000000    70.000000   68.000000   0.250000\n",
              "25%     98.000000   66.750000    77.000000   90.000000   0.250000\n",
              "50%    113.500000   76.500000    80.500000  108.000000   0.350000\n",
              "75%    131.750000   95.000000    82.000000  124.000000   0.500000\n",
              "max    176.000000  129.000000    84.000000  158.000000   0.500000"
            ]
          },
          "metadata": {},
          "execution_count": 10
        }
      ]
    },
    {
      "cell_type": "markdown",
      "metadata": {
        "id": "IaqpFDyQ1nea"
      },
      "source": [
        "<li>count</li>\n",
        "행 내에 null(빈값, numpy의 NaN과 같은 취급)이 아닌 row의 개수를 센다. \n",
        "<li>mean</li>\n",
        "모든 row에 있어 각 colum들의 값에 대한 평균값을 나타낸다. null값은 아예 없는 값으로 취급하여 분모에 들어가지 않는다. 즉 sum(모든 row의 값)/count 가 된다고 생각하면 된다.\n",
        "<li>std</li>\n",
        "해당 column들의 값을에 대한 표준편차를 나타낸다. 역시 null값은 없는 값으로 취급한다.\n",
        "<li>min, 25%, 50%, 75%, max</li>\n",
        "해당 column들의 값 중 최솟값, 사분위수, 최대값을 의미한다."
      ]
    },
    {
      "cell_type": "code",
      "metadata": {
        "colab": {
          "base_uri": "https://localhost:8080/"
        },
        "id": "vTfLWmE23CxW",
        "outputId": "fadc3c63-c377-4631-b001-bce5e242bef4"
      },
      "source": [
        "lemonade['Location'].value_counts()\n",
        "해당열의 정보 갯수를 나타낸다."
      ],
      "execution_count": 11,
      "outputs": [
        {
          "output_type": "execute_result",
          "data": {
            "text/plain": [
              "Beach    17\n",
              "Park     15\n",
              "Name: Location, dtype: int64"
            ]
          },
          "metadata": {},
          "execution_count": 11
        }
      ]
    },
    {
      "cell_type": "markdown",
      "metadata": {
        "id": "3h1QE8LZ3ozP"
      },
      "source": [
        "# 데이터 다뤄보기"
      ]
    },
    {
      "cell_type": "code",
      "metadata": {
        "colab": {
          "base_uri": "https://localhost:8080/"
        },
        "id": "ZeF6J4hz3scW",
        "outputId": "4c686b56-21f4-48b9-8c41-6dd3ea948f74"
      },
      "source": [
        "lemonade['Sold'] = 0\n",
        "print(lemonade.head(3))\n",
        "#데이터에 sold 행을 추가함"
      ],
      "execution_count": 13,
      "outputs": [
        {
          "output_type": "stream",
          "name": "stdout",
          "text": [
            "       Date Location  Lemon  Orange  Temperature  Leaflets  Price  sold  Sold\n",
            "0  7/1/2016     Park     97      67           70      90.0   0.25     0     0\n",
            "1  7/2/2016     Park     98      67           72      90.0   0.25     0     0\n",
            "2  7/3/2016     Park    110      77           71     104.0   0.25     0     0\n"
          ]
        }
      ]
    },
    {
      "cell_type": "code",
      "metadata": {
        "colab": {
          "base_uri": "https://localhost:8080/"
        },
        "id": "sKdIssdH4BSn",
        "outputId": "fc8e40e2-92d3-404b-a66b-d74dcf4f0831"
      },
      "source": [
        "lemonade['Sold'] = lemonade['Lemon'] + lemonade['Orange']\n",
        "print(lemonade.head(3))\n",
        "# sold 행에 데이터 값을 지정함. (레몬과 오렌지 값을 더한 값)"
      ],
      "execution_count": 14,
      "outputs": [
        {
          "output_type": "stream",
          "name": "stdout",
          "text": [
            "       Date Location  Lemon  Orange  Temperature  Leaflets  Price  sold  Sold\n",
            "0  7/1/2016     Park     97      67           70      90.0   0.25     0   164\n",
            "1  7/2/2016     Park     98      67           72      90.0   0.25     0   165\n",
            "2  7/3/2016     Park    110      77           71     104.0   0.25     0   187\n"
          ]
        }
      ]
    },
    {
      "cell_type": "code",
      "metadata": {
        "colab": {
          "base_uri": "https://localhost:8080/"
        },
        "id": "DjOAURHY4liA",
        "outputId": "079d3dc9-3c39-4ae9-885a-08a6293c8ead"
      },
      "source": [
        "lemonade['Revenue'] = lemonade['Price'] * lemonade['Sold']\n",
        "print(lemonade.head(3))\n",
        "# 새 행을 추가함과 동시에 값을 지정해줌."
      ],
      "execution_count": 15,
      "outputs": [
        {
          "output_type": "stream",
          "name": "stdout",
          "text": [
            "       Date Location  Lemon  Orange  ...  Price  sold  Sold  Revenue\n",
            "0  7/1/2016     Park     97      67  ...   0.25     0   164    41.00\n",
            "1  7/2/2016     Park     98      67  ...   0.25     0   165    41.25\n",
            "2  7/3/2016     Park    110      77  ...   0.25     0   187    46.75\n",
            "\n",
            "[3 rows x 10 columns]\n"
          ]
        }
      ]
    },
    {
      "cell_type": "code",
      "metadata": {
        "colab": {
          "base_uri": "https://localhost:8080/"
        },
        "id": "gt6QABGM5GRk",
        "outputId": "536dd097-0130-4f53-b614-845adb0aea9e"
      },
      "source": [
        "pd.set_option('display.max_columns', None)\n",
        "\n",
        "lemonade['Revenue'] = lemonade['Price'] * lemonade['Sold']\n",
        "print(lemonade.head(3))\n"
      ],
      "execution_count": 16,
      "outputs": [
        {
          "output_type": "stream",
          "name": "stdout",
          "text": [
            "       Date Location  Lemon  Orange  Temperature  Leaflets  Price  sold  Sold  \\\n",
            "0  7/1/2016     Park     97      67           70      90.0   0.25     0   164   \n",
            "1  7/2/2016     Park     98      67           72      90.0   0.25     0   165   \n",
            "2  7/3/2016     Park    110      77           71     104.0   0.25     0   187   \n",
            "\n",
            "   Revenue  \n",
            "0    41.00  \n",
            "1    41.25  \n",
            "2    46.75  \n"
          ]
        }
      ]
    },
    {
      "cell_type": "code",
      "metadata": {
        "colab": {
          "base_uri": "https://localhost:8080/"
        },
        "id": "pwm8MQEW5xYE",
        "outputId": "2e379cd3-68e5-49fa-a6b1-662491e8d865"
      },
      "source": [
        "pd.set_option('display.max_columns', 0)\n",
        "\n",
        "lemonade['Revenue'] = lemonade['Price'] * lemonade['Sold']\n",
        "print(lemonade.head(3))"
      ],
      "execution_count": 23,
      "outputs": [
        {
          "output_type": "stream",
          "name": "stdout",
          "text": [
            "       Date Location  Lemon  Orange  ...  Price  sold  Sold  Revenue\n",
            "0  7/1/2016     Park     97      67  ...   0.25     0   164    41.00\n",
            "1  7/2/2016     Park     98      67  ...   0.25     0   165    41.25\n",
            "2  7/3/2016     Park    110      77  ...   0.25     0   187    46.75\n",
            "\n",
            "[3 rows x 10 columns]\n"
          ]
        }
      ]
    },
    {
      "cell_type": "code",
      "metadata": {
        "colab": {
          "base_uri": "https://localhost:8080/"
        },
        "id": "MIUL5k146lQ7",
        "outputId": "1c0c902e-41a8-49eb-a412-9e31c501b23c"
      },
      "source": [
        "lemonade_column_drop = lemonade.drop('Sold', axis=1)\n",
        "print(lemonade_column_drop.head(3))"
      ],
      "execution_count": 28,
      "outputs": [
        {
          "output_type": "stream",
          "name": "stdout",
          "text": [
            "       Date Location  Lemon  Orange  ...  Leaflets  Price  sold  Revenue\n",
            "0  7/1/2016     Park     97      67  ...      90.0   0.25     0    41.00\n",
            "1  7/2/2016     Park     98      67  ...      90.0   0.25     0    41.25\n",
            "2  7/3/2016     Park    110      77  ...     104.0   0.25     0    46.75\n",
            "\n",
            "[3 rows x 9 columns]\n"
          ]
        }
      ]
    },
    {
      "cell_type": "code",
      "metadata": {
        "colab": {
          "base_uri": "https://localhost:8080/"
        },
        "id": "uXhpvMEvE8wR",
        "outputId": "ab3377c2-3deb-4b13-f13b-b12be8b269f6"
      },
      "source": [
        "lemonade_row_drop = lemonade_column_drop.drop(0, axis=0)\n",
        "print(lemonade_row_drop.head(3))"
      ],
      "execution_count": 35,
      "outputs": [
        {
          "output_type": "stream",
          "name": "stdout",
          "text": [
            "       Date Location  Lemon  Orange  ...  Leaflets  Price  sold  Revenue\n",
            "1  7/2/2016     Park     98      67  ...      90.0   0.25     0    41.25\n",
            "2  7/3/2016     Park    110      77  ...     104.0   0.25     0    46.75\n",
            "3  7/4/2016    Beach    134      99  ...      98.0   0.25     0    58.25\n",
            "\n",
            "[3 rows x 9 columns]\n"
          ]
        }
      ]
    },
    {
      "cell_type": "markdown",
      "metadata": {
        "id": "sP32EZE1FueG"
      },
      "source": [
        "# 데이터 인덱싱"
      ]
    },
    {
      "cell_type": "code",
      "metadata": {
        "colab": {
          "base_uri": "https://localhost:8080/"
        },
        "id": "bpecQvqjFz26",
        "outputId": "2d10e68d-1a71-484b-f39d-4335816c1046"
      },
      "source": [
        "print(lemonade[0:5])\n",
        "# 0부터 5개의 값을 가져옴"
      ],
      "execution_count": 36,
      "outputs": [
        {
          "output_type": "stream",
          "name": "stdout",
          "text": [
            "       Date Location  Lemon  Orange  ...  Price  sold  Sold  Revenue\n",
            "0  7/1/2016     Park     97      67  ...   0.25     0   164    41.00\n",
            "1  7/2/2016     Park     98      67  ...   0.25     0   165    41.25\n",
            "2  7/3/2016     Park    110      77  ...   0.25     0   187    46.75\n",
            "3  7/4/2016    Beach    134      99  ...   0.25     0   233    58.25\n",
            "4  7/5/2016    Beach    159     118  ...   0.25     0   277    69.25\n",
            "\n",
            "[5 rows x 10 columns]\n"
          ]
        }
      ]
    },
    {
      "cell_type": "code",
      "metadata": {
        "colab": {
          "base_uri": "https://localhost:8080/"
        },
        "id": "yn45818VGACB",
        "outputId": "88c42218-58f6-406a-ee85-85825b5f07c8"
      },
      "source": [
        "lemonade['Location'] == 'Beach'"
      ],
      "execution_count": 38,
      "outputs": [
        {
          "output_type": "execute_result",
          "data": {
            "text/plain": [
              "0     False\n",
              "1     False\n",
              "2     False\n",
              "3      True\n",
              "4      True\n",
              "5      True\n",
              "6      True\n",
              "7      True\n",
              "8      True\n",
              "9      True\n",
              "10     True\n",
              "11     True\n",
              "12     True\n",
              "13     True\n",
              "14     True\n",
              "15     True\n",
              "16     True\n",
              "17     True\n",
              "18    False\n",
              "19    False\n",
              "20    False\n",
              "21    False\n",
              "22    False\n",
              "23    False\n",
              "24    False\n",
              "25    False\n",
              "26    False\n",
              "27    False\n",
              "28    False\n",
              "29    False\n",
              "30     True\n",
              "31     True\n",
              "Name: Location, dtype: bool"
            ]
          },
          "metadata": {},
          "execution_count": 38
        }
      ]
    },
    {
      "cell_type": "code",
      "metadata": {
        "colab": {
          "base_uri": "https://localhost:8080/"
        },
        "id": "MWXtrt54GMNp",
        "outputId": "e0ff200a-5eab-4342-bde8-4575f1288f8c"
      },
      "source": [
        "print(lemonade[lemonade['Location']=='Beach'].head(3)) \n",
        "# Beach인 데이터를 앞에서 3개 출력한다."
      ],
      "execution_count": 39,
      "outputs": [
        {
          "output_type": "stream",
          "name": "stdout",
          "text": [
            "       Date Location  Lemon  Orange  ...  Price  sold  Sold  Revenue\n",
            "3  7/4/2016    Beach    134      99  ...   0.25     0   233    58.25\n",
            "4  7/5/2016    Beach    159     118  ...   0.25     0   277    69.25\n",
            "5  7/6/2016    Beach    103      69  ...   0.25     0   172    43.00\n",
            "\n",
            "[3 rows x 10 columns]\n"
          ]
        }
      ]
    },
    {
      "cell_type": "code",
      "metadata": {
        "colab": {
          "base_uri": "https://localhost:8080/"
        },
        "id": "dSRT_MJtGos-",
        "outputId": "d479bd6f-69a2-4ae7-d387-f80d6a1a76ae"
      },
      "source": [
        "print(lemonade.iloc[0:3,0:2])\n",
        "# 0 부터 3개의 열 / 0부터 2개의 행을 출력한다"
      ],
      "execution_count": 42,
      "outputs": [
        {
          "output_type": "stream",
          "name": "stdout",
          "text": [
            "       Date Location\n",
            "0  7/1/2016     Park\n",
            "1  7/2/2016     Park\n",
            "2  7/3/2016     Park\n"
          ]
        }
      ]
    },
    {
      "cell_type": "code",
      "metadata": {
        "colab": {
          "base_uri": "https://localhost:8080/"
        },
        "id": "G0bTAezfHTBx",
        "outputId": "0c13eb08-04a5-4f8c-bfc6-6da754efa292"
      },
      "source": [
        "print(lemonade.loc[0:2,['Date','Location']])\n",
        "# 0부터 2개의 열 / date와 location 의 값을 출력한다."
      ],
      "execution_count": 44,
      "outputs": [
        {
          "output_type": "stream",
          "name": "stdout",
          "text": [
            "       Date Location\n",
            "0  7/1/2016     Park\n",
            "1  7/2/2016     Park\n",
            "2  7/3/2016     Park\n"
          ]
        }
      ]
    },
    {
      "cell_type": "markdown",
      "metadata": {
        "id": "rFMx5URuIRSM"
      },
      "source": [
        "# 기본 데이터 전처리"
      ]
    },
    {
      "cell_type": "code",
      "metadata": {
        "colab": {
          "base_uri": "https://localhost:8080/"
        },
        "id": "GPicVvtOHwvU",
        "outputId": "4fb701a4-4963-49e5-9ca8-35fae35215ea"
      },
      "source": [
        "print(lemonade.sort_values(by=['Temperature']).head(5))"
      ],
      "execution_count": 48,
      "outputs": [
        {
          "output_type": "stream",
          "name": "stdout",
          "text": [
            "         Date Location  Lemon  Orange  ...  Price  sold  Sold  Revenue\n",
            "0    7/1/2016     Park     97      67  ...   0.25     0   164    41.00\n",
            "20  7/20/2016     Park     71      42  ...   0.50     0   113    56.50\n",
            "2    7/3/2016     Park    110      77  ...   0.25     0   187    46.75\n",
            "1    7/2/2016     Park     98      67  ...   0.25     0   165    41.25\n",
            "16  7/16/2016    Beach     81      50  ...   0.50     0   131    65.50\n",
            "\n",
            "[5 rows x 10 columns]\n"
          ]
        }
      ]
    },
    {
      "cell_type": "code",
      "metadata": {
        "colab": {
          "base_uri": "https://localhost:8080/"
        },
        "id": "eal2D4SHIwJC",
        "outputId": "6da475a1-3834-4809-b515-22ff12859d6b"
      },
      "source": [
        "lemonade.sort_values(by=['Temperature','Revenue'], ascending = False, inplace = True)\n",
        "print(lemonade.loc[:,['Date','Temperature','Revenue']].head(5))"
      ],
      "execution_count": 49,
      "outputs": [
        {
          "output_type": "stream",
          "name": "stdout",
          "text": [
            "         Date  Temperature  Revenue\n",
            "25  7/25/2016           84   134.50\n",
            "12  7/12/2016           84    56.25\n",
            "26  7/26/2016           83   106.75\n",
            "11  7/11/2016           83    70.50\n",
            "24  7/24/2016           82   101.50\n"
          ]
        }
      ]
    },
    {
      "cell_type": "code",
      "metadata": {
        "colab": {
          "base_uri": "https://localhost:8080/"
        },
        "id": "e5ZOyEY_JqJ4",
        "outputId": "512bd3f0-d274-4ebe-a3fd-feb5bab3cd57"
      },
      "source": [
        "print(lemonade.groupby(by='Location').count())"
      ],
      "execution_count": 50,
      "outputs": [
        {
          "output_type": "stream",
          "name": "stdout",
          "text": [
            "          Date  Lemon  Orange  Temperature  ...  Price  sold  Sold  Revenue\n",
            "Location                                    ...                            \n",
            "Beach       16     17      17           17  ...     17    17    17       17\n",
            "Park        15     15      15           15  ...     15    15    15       15\n",
            "\n",
            "[2 rows x 9 columns]\n"
          ]
        }
      ]
    },
    {
      "cell_type": "code",
      "metadata": {
        "colab": {
          "base_uri": "https://localhost:8080/"
        },
        "id": "qPjCN3rIJ6RL",
        "outputId": "696ace6a-a781-4e9e-b66b-335ec3eb9bb6"
      },
      "source": [
        "print(lemonade.groupby('Location')['Revenue'].agg([max,min]))"
      ],
      "execution_count": 51,
      "outputs": [
        {
          "output_type": "stream",
          "name": "stdout",
          "text": [
            "            max   min\n",
            "Location             \n",
            "Beach      95.5  43.0\n",
            "Park      134.5  41.0\n"
          ]
        }
      ]
    },
    {
      "cell_type": "code",
      "metadata": {
        "colab": {
          "base_uri": "https://localhost:8080/"
        },
        "id": "0Or2w0oGKPHD",
        "outputId": "25936380-d84d-4285-b78a-44d7ee0a1cdd"
      },
      "source": [
        "print(lemonade.groupby('Location')[['Revenue','Sold']].agg([max,min]))"
      ],
      "execution_count": 52,
      "outputs": [
        {
          "output_type": "stream",
          "name": "stdout",
          "text": [
            "         Revenue       Sold     \n",
            "             max   min  max  min\n",
            "Location                        \n",
            "Beach       95.5  43.0  282  123\n",
            "Park       134.5  41.0  305  113\n"
          ]
        }
      ]
    }
  ]
}