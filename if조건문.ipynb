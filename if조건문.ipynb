{
  "nbformat": 4,
  "nbformat_minor": 0,
  "metadata": {
    "colab": {
      "name": "if조건문.ipynb",
      "provenance": [],
      "toc_visible": true,
      "authorship_tag": "ABX9TyMCNbY+xspjO4lfbfpsNk5m",
      "include_colab_link": true
    },
    "kernelspec": {
      "name": "python3",
      "display_name": "Python 3"
    },
    "language_info": {
      "name": "python"
    }
  },
  "cells": [
    {
      "cell_type": "markdown",
      "metadata": {
        "id": "view-in-github",
        "colab_type": "text"
      },
      "source": [
        "<a href=\"https://colab.research.google.com/github/hanbeen1992/python/blob/main/if%EC%A1%B0%EA%B1%B4%EB%AC%B8.ipynb\" target=\"_parent\"><img src=\"https://colab.research.google.com/assets/colab-badge.svg\" alt=\"Open In Colab\"/></a>"
      ]
    },
    {
      "cell_type": "markdown",
      "metadata": {
        "id": "U52o3Owp58lL"
      },
      "source": [
        "# if 중첩문 사용하기\n",
        "중첩문에 대해 알아보자"
      ]
    },
    {
      "cell_type": "code",
      "metadata": {
        "colab": {
          "base_uri": "https://localhost:8080/"
        },
        "id": "WDgwUsVF6HJo",
        "outputId": "d063d5fe-ab3a-4ec5-ad70-b102df964ac5"
      },
      "source": [
        "x = 15\n",
        "if x >=15 :\n",
        "  print('10이상입니다.')\n",
        "\n",
        "  if x == 15 :\n",
        "    print('15입니다')\n",
        "\n",
        "    if x == 20 :\n",
        "      print('20입니다.')"
      ],
      "execution_count": 1,
      "outputs": [
        {
          "output_type": "stream",
          "name": "stdout",
          "text": [
            "10이상입니다.\n",
            "15입니다\n"
          ]
        }
      ]
    },
    {
      "cell_type": "markdown",
      "metadata": {
        "id": "nGuPGaep67x0"
      },
      "source": [
        "이렇게 들여쓰기가 된 if x == 15 : 와 if x == 20 : 은 처음에 나온 if X >=10 : 에 속한 코드입니다.\n",
        "즉, if x >=10 : 의 조건식이 만족해야 실행하는 코드"
      ]
    },
    {
      "cell_type": "markdown",
      "metadata": {
        "id": "x1ozDCoh7WO8"
      },
      "source": [
        "# 사용자가 입력한 값에 if 조건문 사용하기\n",
        "input을 사용하여 사용자가 입력한 값을 변수에 저장하고, if 조건문으로 값을 비교해보자. "
      ]
    },
    {
      "cell_type": "code",
      "metadata": {
        "colab": {
          "base_uri": "https://localhost:8080/"
        },
        "id": "1dJ4kSS17pqV",
        "outputId": "466ce053-21ed-4824-88cf-69c5afb7bf50"
      },
      "source": [
        "x =int(input()) \n",
        "print('당신이 입력한 숫자는',x, '입니다.')\n",
        "\n",
        "if x == 10 :\n",
        "  print('10 입니다.')\n",
        "\n",
        "if x == 20 :\n",
        "  print('20 입니다,')"
      ],
      "execution_count": 4,
      "outputs": [
        {
          "output_type": "stream",
          "name": "stdout",
          "text": [
            "10\n",
            "당신이 입력한 숫자는 10 입니다.\n",
            "10입니다.\n"
          ]
        }
      ]
    },
    {
      "cell_type": "markdown",
      "metadata": {
        "id": "KE08zsL28NMr"
      },
      "source": [
        "입력 값이 x에 저장되고 if로 x가 10인지 비교한다.\n",
        "여기서는 10을 입력했으므로 '10입니다.'가 출력됩니다."
      ]
    }
  ]
}