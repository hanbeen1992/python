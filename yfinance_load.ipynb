{
  "nbformat": 4,
  "nbformat_minor": 0,
  "metadata": {
    "colab": {
      "name": "yfinance_load.ipynb",
      "provenance": [],
      "authorship_tag": "ABX9TyP2fsZzZefAl9jPOm2IF7xB"
    },
    "kernelspec": {
      "name": "python3",
      "display_name": "Python 3"
    },
    "language_info": {
      "name": "python"
    }
  },
  "cells": [
    {
      "cell_type": "markdown",
      "metadata": {
        "id": "LP2duvJFJ4Gi"
      },
      "source": [
        "# 한 종목 주가 데이터 받아오기 (삼성전자)"
      ]
    },
    {
      "cell_type": "code",
      "metadata": {
        "id": "Q13QlPiXLkTJ"
      },
      "source": [
        "!pip install yfinance --upgrade --no-cache-dir\n",
        "#데이터를 다운받음"
      ],
      "execution_count": null,
      "outputs": []
    },
    {
      "cell_type": "code",
      "metadata": {
        "colab": {
          "base_uri": "https://localhost:8080/"
        },
        "id": "HVl5ARZRKJkW",
        "outputId": "e0069dad-94c2-40f1-a502-ce36595d07cd"
      },
      "source": [
        "#블로그에 올라온 자료\n",
        "import pandas as pd\n",
        "import yfinance as yf # yfinance 를 임포트 한다.\n",
        "\n",
        "tic = '005930.KS' #삼성전자\n",
        "df = yf.download(tic, start='2020-01-01', end='2020-12-31',progress=False)\n",
        "df.info()\n",
        "#tic에 받고자 하는 종목 정보를 넣는다"
      ],
      "execution_count": 3,
      "outputs": [
        {
          "output_type": "stream",
          "name": "stdout",
          "text": [
            "<class 'pandas.core.frame.DataFrame'>\n",
            "DatetimeIndex: 248 entries, 2020-01-02 to 2020-12-30\n",
            "Data columns (total 6 columns):\n",
            " #   Column     Non-Null Count  Dtype  \n",
            "---  ------     --------------  -----  \n",
            " 0   Open       248 non-null    float64\n",
            " 1   High       248 non-null    float64\n",
            " 2   Low        248 non-null    float64\n",
            " 3   Close      248 non-null    float64\n",
            " 4   Adj Close  248 non-null    float64\n",
            " 5   Volume     248 non-null    int64  \n",
            "dtypes: float64(5), int64(1)\n",
            "memory usage: 13.6 KB\n"
          ]
        }
      ]
    },
    {
      "cell_type": "code",
      "metadata": {
        "colab": {
          "base_uri": "https://localhost:8080/",
          "height": 234
        },
        "id": "1KXArU88M0lO",
        "outputId": "8f752b28-461e-4798-cbcc-271473a505aa"
      },
      "source": [
        "df.head(5) # 5개의 정보를 불러왔다."
      ],
      "execution_count": 6,
      "outputs": [
        {
          "output_type": "execute_result",
          "data": {
            "text/html": [
              "<div>\n",
              "<style scoped>\n",
              "    .dataframe tbody tr th:only-of-type {\n",
              "        vertical-align: middle;\n",
              "    }\n",
              "\n",
              "    .dataframe tbody tr th {\n",
              "        vertical-align: top;\n",
              "    }\n",
              "\n",
              "    .dataframe thead th {\n",
              "        text-align: right;\n",
              "    }\n",
              "</style>\n",
              "<table border=\"1\" class=\"dataframe\">\n",
              "  <thead>\n",
              "    <tr style=\"text-align: right;\">\n",
              "      <th></th>\n",
              "      <th>Open</th>\n",
              "      <th>High</th>\n",
              "      <th>Low</th>\n",
              "      <th>Close</th>\n",
              "      <th>Adj Close</th>\n",
              "      <th>Volume</th>\n",
              "    </tr>\n",
              "    <tr>\n",
              "      <th>Date</th>\n",
              "      <th></th>\n",
              "      <th></th>\n",
              "      <th></th>\n",
              "      <th></th>\n",
              "      <th></th>\n",
              "      <th></th>\n",
              "    </tr>\n",
              "  </thead>\n",
              "  <tbody>\n",
              "    <tr>\n",
              "      <th>2020-01-02</th>\n",
              "      <td>55500.0</td>\n",
              "      <td>56000.0</td>\n",
              "      <td>55000.0</td>\n",
              "      <td>55200.0</td>\n",
              "      <td>52058.132812</td>\n",
              "      <td>12993228</td>\n",
              "    </tr>\n",
              "    <tr>\n",
              "      <th>2020-01-03</th>\n",
              "      <td>56000.0</td>\n",
              "      <td>56600.0</td>\n",
              "      <td>54900.0</td>\n",
              "      <td>55500.0</td>\n",
              "      <td>52341.058594</td>\n",
              "      <td>15422255</td>\n",
              "    </tr>\n",
              "    <tr>\n",
              "      <th>2020-01-06</th>\n",
              "      <td>54900.0</td>\n",
              "      <td>55600.0</td>\n",
              "      <td>54600.0</td>\n",
              "      <td>55500.0</td>\n",
              "      <td>52341.058594</td>\n",
              "      <td>10278951</td>\n",
              "    </tr>\n",
              "    <tr>\n",
              "      <th>2020-01-07</th>\n",
              "      <td>55700.0</td>\n",
              "      <td>56400.0</td>\n",
              "      <td>55600.0</td>\n",
              "      <td>55800.0</td>\n",
              "      <td>52623.980469</td>\n",
              "      <td>10009778</td>\n",
              "    </tr>\n",
              "    <tr>\n",
              "      <th>2020-01-08</th>\n",
              "      <td>56200.0</td>\n",
              "      <td>57400.0</td>\n",
              "      <td>55900.0</td>\n",
              "      <td>56800.0</td>\n",
              "      <td>53567.058594</td>\n",
              "      <td>23501171</td>\n",
              "    </tr>\n",
              "  </tbody>\n",
              "</table>\n",
              "</div>"
            ],
            "text/plain": [
              "               Open     High      Low    Close     Adj Close    Volume\n",
              "Date                                                                  \n",
              "2020-01-02  55500.0  56000.0  55000.0  55200.0  52058.132812  12993228\n",
              "2020-01-03  56000.0  56600.0  54900.0  55500.0  52341.058594  15422255\n",
              "2020-01-06  54900.0  55600.0  54600.0  55500.0  52341.058594  10278951\n",
              "2020-01-07  55700.0  56400.0  55600.0  55800.0  52623.980469  10009778\n",
              "2020-01-08  56200.0  57400.0  55900.0  56800.0  53567.058594  23501171"
            ]
          },
          "metadata": {},
          "execution_count": 6
        }
      ]
    },
    {
      "cell_type": "code",
      "metadata": {
        "colab": {
          "base_uri": "https://localhost:8080/",
          "height": 404
        },
        "id": "zHaqR7uWNUKC",
        "outputId": "615cd136-dd0d-4189-f69f-ca237d2ec516"
      },
      "source": [
        "#import fix_yahoo_finance as yf\n",
        "import yfinance as yf\n",
        "import matplotlib.pyplot as plt\n",
        "\n",
        "tic = '005930.KS' #삼성전자\n",
        "df = yf.download(tic, start='2020-01-01', end='2021-11-01',progress=False)\n",
        "ts1 = df['Open']\n",
        "fig, ax = plt.subplots(figsize=(10,6))# 직접 Figure 객체 생성\n",
        "# ax = fig.subplots() # 직접 axes를 생성\n",
        "ax.plot(ts1) #생성된 axes에 대한 plot() 멤버 직접 호출\n",
        "ax.set_title('Stock Market fluctuation of Samsung Electronics')\n",
        "ax.legend(labels=['Price'],loc='best')\n",
        "ax.set_xlabel('Data')\n",
        "ax.set_ylabel('Stock Market Open Price')\n",
        "plt.show()"
      ],
      "execution_count": 13,
      "outputs": [
        {
          "output_type": "display_data",
          "data": {
            "image/png": "[encoded data removed]",
            "text/plain": [
              "<Figure size 720x432 with 1 Axes>"
            ]
          },
          "metadata": {
            "needs_background": "light"
          }
        }
      ]
    },
    {
      "cell_type": "code",
      "metadata": {
        "colab": {
          "base_uri": "https://localhost:8080/"
        },
        "id": "ABPA1hJWKfc4",
        "outputId": "b1aa6811-06ae-48b2-85ab-01221e90ef98"
      },
      "source": [
        "# 수업시간에 했던 자료\n",
        "import yfinance as yf\n",
        "data = yf.download('AAPL','2019-08-01','2020-08-01')\n",
        "data.info()\n",
        "#다운받은 데이터의 정보를 볼러온다. "
      ],
      "execution_count": 5,
      "outputs": [
        {
          "output_type": "stream",
          "name": "stdout",
          "text": [
            "\r[*********************100%***********************]  1 of 1 completed\n",
            "<class 'pandas.core.frame.DataFrame'>\n",
            "DatetimeIndex: 253 entries, 2019-08-01 to 2020-07-31\n",
            "Data columns (total 6 columns):\n",
            " #   Column     Non-Null Count  Dtype  \n",
            "---  ------     --------------  -----  \n",
            " 0   Open       253 non-null    float64\n",
            " 1   High       253 non-null    float64\n",
            " 2   Low        253 non-null    float64\n",
            " 3   Close      253 non-null    float64\n",
            " 4   Adj Close  253 non-null    float64\n",
            " 5   Volume     253 non-null    int64  \n",
            "dtypes: float64(5), int64(1)\n",
            "memory usage: 13.8 KB\n"
          ]
        }
      ]
    },
    {
      "cell_type": "code",
      "metadata": {
        "id": "-_3LsX6uJ2pS"
      },
      "source": [
        ""
      ],
      "execution_count": null,
      "outputs": []
    }
  ]
}