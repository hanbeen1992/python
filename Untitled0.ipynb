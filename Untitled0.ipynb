{
  "nbformat": 4,
  "nbformat_minor": 0,
  "metadata": {
    "colab": {
      "name": "Untitled0.ipynb",
      "provenance": [],
      "toc_visible": true,
      "authorship_tag": "ABX9TyNPyFKsPomBDN0fH1kGP/OY",
      "include_colab_link": true
    },
    "kernelspec": {
      "name": "python3",
      "display_name": "Python 3"
    },
    "language_info": {
      "name": "python"
    }
  },
  "cells": [
    {
      "cell_type": "markdown",
      "metadata": {
        "id": "view-in-github",
        "colab_type": "text"
      },
      "source": [
        "<a href=\"https://colab.research.google.com/github/hanbeen1992/python/blob/main/Untitled0.ipynb\" target=\"_parent\"><img src=\"https://colab.research.google.com/assets/colab-badge.svg\" alt=\"Open In Colab\"/></a>"
      ]
    },
    {
      "cell_type": "markdown",
      "metadata": {
        "id": "VPl2dtXcRssX"
      },
      "source": [
        "# python numpy 정리\n"
      ]
    },
    {
      "cell_type": "markdown",
      "metadata": {
        "id": "exWzET1sSBI6"
      },
      "source": [
        "**라이브러리 불러오기**"
      ]
    },
    {
      "cell_type": "code",
      "metadata": {
        "colab": {
          "base_uri": "https://localhost:8080/"
        },
        "id": "a21OuEcGSFEC",
        "outputId": "458efa96-74ea-4c90-ea0c-56f5206a1425"
      },
      "source": [
        "import numpy as np\n",
        "print(np.__version__)"
      ],
      "execution_count": 1,
      "outputs": [
        {
          "output_type": "stream",
          "name": "stdout",
          "text": [
            "1.19.5\n"
          ]
        }
      ]
    },
    {
      "cell_type": "code",
      "metadata": {
        "colab": {
          "base_uri": "https://localhost:8080/"
        },
        "id": "UqBZdYdVSTyh",
        "outputId": "0bed7056-4f37-48f0-d4bc-a22d6cefc431"
      },
      "source": [
        "temp = np.array([1,2,3])\n",
        "print(type(temp))"
      ],
      "execution_count": 2,
      "outputs": [
        {
          "output_type": "stream",
          "name": "stdout",
          "text": [
            "<class 'numpy.ndarray'>\n"
          ]
        }
      ]
    },
    {
      "cell_type": "markdown",
      "metadata": {
        "id": "eE6D6bsGScd7"
      },
      "source": [
        "# Numpy 배열 생성 및 둘러보기"
      ]
    },
    {
      "cell_type": "code",
      "metadata": {
        "colab": {
          "base_uri": "https://localhost:8080/"
        },
        "id": "P3L1GhRTS25S",
        "outputId": "76792ae2-eaa4-4560-b762-dd8c75032a48"
      },
      "source": [
        "data1 = [1,2,3]\n",
        "data1"
      ],
      "execution_count": 6,
      "outputs": [
        {
          "output_type": "execute_result",
          "data": {
            "text/plain": [
              "[1, 2, 3]"
            ]
          },
          "metadata": {},
          "execution_count": 6
        }
      ]
    },
    {
      "cell_type": "code",
      "metadata": {
        "colab": {
          "base_uri": "https://localhost:8080/"
        },
        "id": "XW_FB3GjSl4z",
        "outputId": "1bc0d9fa-6c1b-4f78-8098-752c128cc85f"
      },
      "source": [
        "data2 = [1,1,2,2,3,4]\n",
        "data2"
      ],
      "execution_count": 3,
      "outputs": [
        {
          "output_type": "execute_result",
          "data": {
            "text/plain": [
              "[1, 1, 2, 2, 3, 4]"
            ]
          },
          "metadata": {},
          "execution_count": 3
        }
      ]
    },
    {
      "cell_type": "code",
      "metadata": {
        "colab": {
          "base_uri": "https://localhost:8080/"
        },
        "id": "2X4CrBN8StFC",
        "outputId": "94cb461a-d2ea-4750-8556-d2c5a86c110c"
      },
      "source": [
        "my_array1 = np.array(data1)\n",
        "print(my_array1)\n",
        "print(my_array1.shape)"
      ],
      "execution_count": 7,
      "outputs": [
        {
          "output_type": "stream",
          "name": "stdout",
          "text": [
            "[1 2 3]\n",
            "(3,)\n"
          ]
        }
      ]
    },
    {
      "cell_type": "code",
      "metadata": {
        "colab": {
          "base_uri": "https://localhost:8080/"
        },
        "id": "4ox_xq8sTKtN",
        "outputId": "746937ee-221f-4ce4-a549-d8d3cce7b04c"
      },
      "source": [
        "my_array2 = np.array(data2)\n",
        "print(my_array2)\n",
        "print(my_array2.shape)"
      ],
      "execution_count": 9,
      "outputs": [
        {
          "output_type": "stream",
          "name": "stdout",
          "text": [
            "[1 1 2 2 3 4]\n",
            "(6,)\n"
          ]
        }
      ]
    },
    {
      "cell_type": "code",
      "metadata": {
        "colab": {
          "base_uri": "https://localhost:8080/"
        },
        "id": "nHZYtRRRTcav",
        "outputId": "911b9183-a483-476d-d89f-8de9c15f8e1a"
      },
      "source": [
        "my_array3 = np.array([3,6,9,12])\n",
        "print(my_array3)\n",
        "print(my_array3.shape)\n",
        "print(my_array3.dtype)"
      ],
      "execution_count": 11,
      "outputs": [
        {
          "output_type": "stream",
          "name": "stdout",
          "text": [
            "[ 3  6  9 12]\n",
            "(4,)\n",
            "int64\n"
          ]
        }
      ]
    },
    {
      "cell_type": "code",
      "metadata": {
        "colab": {
          "base_uri": "https://localhost:8080/"
        },
        "id": "exDVUpPZUDMI",
        "outputId": "ef313f88-c01b-4b0d-f9a4-39b16e2fe3db"
      },
      "source": [
        "my_array4 = np.array([[2,4,6],[8,10,12],[14,16,18],[20,22,24]])\n",
        "my_array4"
      ],
      "execution_count": 16,
      "outputs": [
        {
          "output_type": "execute_result",
          "data": {
            "text/plain": [
              "(4, 3)"
            ]
          },
          "metadata": {},
          "execution_count": 16
        }
      ]
    },
    {
      "cell_type": "code",
      "metadata": {
        "colab": {
          "base_uri": "https://localhost:8080/"
        },
        "id": "Gc8buQecUxeV",
        "outputId": "3ee9b808-dc0e-4450-a52f-ee7a8df4af0f"
      },
      "source": [
        "my_array4.shape\n",
        "# 4행과 3열"
      ],
      "execution_count": 17,
      "outputs": [
        {
          "output_type": "execute_result",
          "data": {
            "text/plain": [
              "(4, 3)"
            ]
          },
          "metadata": {},
          "execution_count": 17
        }
      ]
    },
    {
      "cell_type": "code",
      "metadata": {
        "colab": {
          "base_uri": "https://localhost:8080/"
        },
        "id": "5HNiN6tJVz2C",
        "outputId": "027b64ad-2991-4549-8fef-5d228651aa5a"
      },
      "source": [
        "my_array5=np.array([[ [1,2] ,[3,4] ], [ [5,6] , [7,8] ]])\n",
        "my_array5.shape"
      ],
      "execution_count": 21,
      "outputs": [
        {
          "output_type": "execute_result",
          "data": {
            "text/plain": [
              "(2, 2, 2)"
            ]
          },
          "metadata": {},
          "execution_count": 21
        }
      ]
    },
    {
      "cell_type": "markdown",
      "metadata": {
        "id": "paTeqEMyWqXM"
      },
      "source": [
        "# Numpy 기본 함수"
      ]
    },
    {
      "cell_type": "markdown",
      "metadata": {
        "id": "eYfZDuBxWuM8"
      },
      "source": [
        "##arange\n",
        "arrang()는 함수 이름에서 알수 있듯이 파이썬 표준 함수인 range()와 유사한 기능을 합니다. 쉽게 생각하면 array를 range()로 표현하는 것입니다. 0부터 함수 인자 값 -1까지의 값을 순차적으로 ndarray의 데이터 값으로 변화해 줍니다."
      ]
    },
    {
      "cell_type": "code",
      "metadata": {
        "colab": {
          "base_uri": "https://localhost:8080/"
        },
        "id": "MkgyZq1DW0pU",
        "outputId": "faed98c5-c085-4fd1-f233-2fac5d1feadd"
      },
      "source": [
        "arrange_array = np.arange(5)\n",
        "arrange_array"
      ],
      "execution_count": 22,
      "outputs": [
        {
          "output_type": "execute_result",
          "data": {
            "text/plain": [
              "array([0, 1, 2, 3, 4])"
            ]
          },
          "metadata": {},
          "execution_count": 22
        }
      ]
    },
    {
      "cell_type": "code",
      "metadata": {
        "colab": {
          "base_uri": "https://localhost:8080/"
        },
        "id": "wL-KC2oYX2Do",
        "outputId": "61399a42-737b-4d25-98f0-e8bc65c0f162"
      },
      "source": [
        "arrange_array2 =np.arange(1,9,3)\n",
        "arrange_array2"
      ],
      "execution_count": 27,
      "outputs": [
        {
          "output_type": "execute_result",
          "data": {
            "text/plain": [
              "array([1, 4, 7])"
            ]
          },
          "metadata": {},
          "execution_count": 27
        }
      ]
    },
    {
      "cell_type": "markdown",
      "metadata": {
        "id": "bq1sJHyMZcnK"
      },
      "source": [
        "## zeroes, ones"
      ]
    },
    {
      "cell_type": "code",
      "metadata": {
        "colab": {
          "base_uri": "https://localhost:8080/"
        },
        "id": "LEZQ6845ZiGw",
        "outputId": "b452f1c5-ff4d-4109-8f18-dfb8b031eb4c"
      },
      "source": [
        "zeroes_array = np.zeros((3,2))\n",
        "print(zeroes_array)\n",
        "print(\"Data Type is : \", zeroes_array.dtype)\n",
        "print(\"Data Type is : \" , zeroes_array.shape)"
      ],
      "execution_count": 31,
      "outputs": [
        {
          "output_type": "stream",
          "name": "stdout",
          "text": [
            "[[0. 0.]\n",
            " [0. 0.]\n",
            " [0. 0.]]\n",
            "Data Type is :  float64\n",
            "Data Type is :  (3, 2)\n"
          ]
        }
      ]
    },
    {
      "cell_type": "code",
      "metadata": {
        "colab": {
          "base_uri": "https://localhost:8080/"
        },
        "id": "jUrjLXBCa1QO",
        "outputId": "a04e1d48-6a73-4dbd-8853-ff5c0c6ea78b"
      },
      "source": [
        "ones_array = np.ones((3,4), dtype='int32')\n",
        "print(ones_array)\n",
        "print(\"Data Type is : \" , ones_array.dtype)\n",
        "print(\"Data Type is : \", ones_array.shape)"
      ],
      "execution_count": 36,
      "outputs": [
        {
          "output_type": "stream",
          "name": "stdout",
          "text": [
            "[[1 1 1 1]\n",
            " [1 1 1 1]\n",
            " [1 1 1 1]]\n",
            "Data Type is :  int32\n",
            "Data Type is :  (3, 4)\n"
          ]
        }
      ]
    },
    {
      "cell_type": "markdown",
      "metadata": {
        "id": "c_oQiyGKbrAw"
      },
      "source": [
        "##reshape\n",
        "reshape() 메서드는 ndarray를 특정 차원 및 크기로 변환합니다. 변환을 원하는 크기를 함수 인자로 부여하면 됩니다. "
      ]
    },
    {
      "cell_type": "code",
      "metadata": {
        "colab": {
          "base_uri": "https://localhost:8080/"
        },
        "id": "6gL82TUVbtfE",
        "outputId": "22bd0f55-56b3-49ef-d711-59ee51da4bc7"
      },
      "source": [
        "after_reshape = ones_array.reshape(6,2)\n",
        "print(after_reshape)\n",
        "print(\"Data Shape is\" , after_reshape.shape)\n",
        "# 단 6*2의 값과 같은 크기로 변환이 가능하다 EX) (1,12), (2,3,2) etc..."
      ],
      "execution_count": 38,
      "outputs": [
        {
          "output_type": "stream",
          "name": "stdout",
          "text": [
            "[[1 1]\n",
            " [1 1]\n",
            " [1 1]\n",
            " [1 1]\n",
            " [1 1]\n",
            " [1 1]]\n",
            "Data Shape is (6, 2)\n"
          ]
        }
      ]
    },
    {
      "cell_type": "code",
      "metadata": {
        "colab": {
          "base_uri": "https://localhost:8080/"
        },
        "id": "YmtaWCcqdMnE",
        "outputId": "78b3d449-7abe-47bc-c417-384caed31fc2"
      },
      "source": [
        "after_reshape = ones_array.reshape(2,3,2)\n",
        "print(after_reshape)\n",
        "print(\"Data Shape is\" , after_reshape.shape)"
      ],
      "execution_count": 39,
      "outputs": [
        {
          "output_type": "stream",
          "name": "stdout",
          "text": [
            "[[[1 1]\n",
            "  [1 1]\n",
            "  [1 1]]\n",
            "\n",
            " [[1 1]\n",
            "  [1 1]\n",
            "  [1 1]]]\n",
            "Data Shape is (2, 3, 2)\n"
          ]
        }
      ]
    },
    {
      "cell_type": "code",
      "metadata": {
        "colab": {
          "base_uri": "https://localhost:8080/"
        },
        "id": "yVa5Mifeej7d",
        "outputId": "bc0fd895-67e8-4a8b-b6a7-17b4fb9d3830"
      },
      "source": [
        "after_reshape3  = ones_array.reshape(3,-1)\n",
        "print(\"reshape(3,-1)? \\n\")\n",
        "print(after_reshape3)\n",
        "print(\"Data Shape is : \" , after_reshape3.shape)"
      ],
      "execution_count": 40,
      "outputs": [
        {
          "output_type": "stream",
          "name": "stdout",
          "text": [
            "reshape(3,-1)? \n",
            "\n",
            "[[1 1 1 1]\n",
            " [1 1 1 1]\n",
            " [1 1 1 1]]\n",
            "Data Shape is :  (3, 4)\n"
          ]
        }
      ]
    }
  ]
}