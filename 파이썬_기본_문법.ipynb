{
  "nbformat": 4,
  "nbformat_minor": 0,
  "metadata": {
    "colab": {
      "name": "파이썬 기본 문법.ipynb",
      "provenance": [],
      "toc_visible": true,
      "authorship_tag": "ABX9TyPldxe4OwIPchG+LCxBeQ/8",
      "include_colab_link": true
    },
    "kernelspec": {
      "name": "python3",
      "display_name": "Python 3"
    },
    "language_info": {
      "name": "python"
    }
  },
  "cells": [
    {
      "cell_type": "markdown",
      "metadata": {
        "id": "view-in-github",
        "colab_type": "text"
      },
      "source": [
        "<a href=\"https://colab.research.google.com/github/hanbeen1992/python/blob/main/%ED%8C%8C%EC%9D%B4%EC%8D%AC_%EA%B8%B0%EB%B3%B8_%EB%AC%B8%EB%B2%95.ipynb\" target=\"_parent\"><img src=\"https://colab.research.google.com/assets/colab-badge.svg\" alt=\"Open In Colab\"/></a>"
      ]
    },
    {
      "cell_type": "markdown",
      "metadata": {
        "id": "wp859FXOQNLw"
      },
      "source": [
        "#Hello World\n"
      ]
    },
    {
      "cell_type": "code",
      "metadata": {
        "colab": {
          "base_uri": "https://localhost:8080/"
        },
        "id": "fDkmeEDiQocy",
        "outputId": "32e031fa-acc3-4aa0-a3fd-6c79886a36b4"
      },
      "source": [
        "print(\"hello, World\")"
      ],
      "execution_count": null,
      "outputs": [
        {
          "output_type": "stream",
          "name": "stdout",
          "text": [
            "hello, World\n"
          ]
        }
      ]
    },
    {
      "cell_type": "markdown",
      "metadata": {
        "id": "47vG6cnxQhcM"
      },
      "source": [
        "# 주석처리"
      ]
    },
    {
      "cell_type": "code",
      "metadata": {
        "colab": {
          "base_uri": "https://localhost:8080/"
        },
        "id": "oR6pLfXyQzul",
        "outputId": "2a1fdf3e-c5b9-4de0-bc76-4c97a501fa26"
      },
      "source": [
        "# 한줄 주석처리\n",
        "\"\"\"\n",
        "여러 줄 주석 예제 동일한 따옴표(큰 따옴표 혹은 작은 따옴 표) 세 개와 세개 사이는 어떤 내용이 들어가도 주석처리가 된다.\n",
        "\"\"\"\n",
        "print(\"Hello\")"
      ],
      "execution_count": null,
      "outputs": [
        {
          "output_type": "stream",
          "name": "stdout",
          "text": [
            "Hello\n"
          ]
        }
      ]
    },
    {
      "cell_type": "markdown",
      "metadata": {
        "id": "bimncdzERFSD"
      },
      "source": [
        "# 변수의 종류"
      ]
    },
    {
      "cell_type": "code",
      "metadata": {
        "colab": {
          "base_uri": "https://localhost:8080/"
        },
        "id": "YiNAWQKWRJKM",
        "outputId": "dc6b8e3e-2873-48be-9722-d4bf9da9de04"
      },
      "source": [
        "num_int = 1\n",
        "print(type(num_int))"
      ],
      "execution_count": null,
      "outputs": [
        {
          "output_type": "stream",
          "name": "stdout",
          "text": [
            "<class 'int'>\n"
          ]
        }
      ]
    },
    {
      "cell_type": "code",
      "metadata": {
        "colab": {
          "base_uri": "https://localhost:8080/"
        },
        "id": "mD5a-WctRUSa",
        "outputId": "0692530a-ab58-4b8f-a622-1550c1a420d6"
      },
      "source": [
        "num_float = 0.2\n",
        "print(type(num_float))"
      ],
      "execution_count": null,
      "outputs": [
        {
          "output_type": "stream",
          "name": "stdout",
          "text": [
            "<class 'float'>\n"
          ]
        }
      ]
    },
    {
      "cell_type": "code",
      "metadata": {
        "colab": {
          "base_uri": "https://localhost:8080/"
        },
        "id": "yub4uxkjRe8z",
        "outputId": "cc882692-3f19-49e4-e177-d91f1e4a4049"
      },
      "source": [
        "bool_true = True\n",
        "print(type(bool_true))"
      ],
      "execution_count": null,
      "outputs": [
        {
          "output_type": "stream",
          "name": "stdout",
          "text": [
            "<class 'bool'>\n"
          ]
        }
      ]
    },
    {
      "cell_type": "code",
      "metadata": {
        "colab": {
          "base_uri": "https://localhost:8080/"
        },
        "id": "FcD_f6OKR9cC",
        "outputId": "55848744-bc7d-48ab-b1e6-8b0b97cc31a5"
      },
      "source": [
        "none_x = None\n",
        "print(type(none_x))"
      ],
      "execution_count": null,
      "outputs": [
        {
          "output_type": "stream",
          "name": "stdout",
          "text": [
            "<class 'NoneType'>\n"
          ]
        }
      ]
    },
    {
      "cell_type": "markdown",
      "metadata": {
        "id": "omQjPsGeSU9I"
      },
      "source": [
        "# 논리형 & 비교 연산자 응용"
      ]
    },
    {
      "cell_type": "code",
      "metadata": {
        "colab": {
          "base_uri": "https://localhost:8080/"
        },
        "id": "_druMrI8SZsy",
        "outputId": "3352dd15-a58d-4313-bda8-5e9a713bd282"
      },
      "source": [
        "num1 = int(input(\"첫번째 번호 입력\"))\n",
        "num2 = int(input(\"두번째 번호 입력\"))\n",
        "\n",
        "var1 = num1 >= num2\n",
        "print(var1)"
      ],
      "execution_count": null,
      "outputs": [
        {
          "output_type": "stream",
          "name": "stdout",
          "text": [
            "첫번째 번호 입력2\n",
            "두번째 번호 입력2\n",
            "True\n"
          ]
        }
      ]
    },
    {
      "cell_type": "markdown",
      "metadata": {
        "id": "o0Z9esW_WFuD"
      },
      "source": [
        "# String Operators"
      ]
    },
    {
      "cell_type": "code",
      "metadata": {
        "colab": {
          "base_uri": "https://localhost:8080/"
        },
        "id": "iwLhpEgMWL1N",
        "outputId": "84659ec9-44b6-47a2-ac31-79c31c25470c"
      },
      "source": [
        "str1 = \"hello \"\n",
        "str2 = \"world \"\n",
        "print(\"str1 + str2 = \", str1 + str2)"
      ],
      "execution_count": null,
      "outputs": [
        {
          "output_type": "stream",
          "name": "stdout",
          "text": [
            "str1 + str2 =  hello world \n"
          ]
        }
      ]
    },
    {
      "cell_type": "code",
      "metadata": {
        "colab": {
          "base_uri": "https://localhost:8080/"
        },
        "id": "rMgcQ0SOWho1",
        "outputId": "c27220b5-9e23-4c79-9a71-a4bc435b9062"
      },
      "source": [
        "greet = str1 + str2\n",
        "print('greet * 5 = ', greet *5)"
      ],
      "execution_count": null,
      "outputs": [
        {
          "output_type": "stream",
          "name": "stdout",
          "text": [
            "greet * 5 =  hello world hello world hello world hello world hello world \n"
          ]
        }
      ]
    },
    {
      "cell_type": "markdown",
      "metadata": {
        "id": "VK01-GwBW1u2"
      },
      "source": [
        "# Indexing"
      ]
    },
    {
      "cell_type": "code",
      "metadata": {
        "colab": {
          "base_uri": "https://localhost:8080/"
        },
        "id": "b7MaIEnoW5Nw",
        "outputId": "b3d652cc-8fcc-404b-da83-57fa28835ad9"
      },
      "source": [
        "greeting = \"hello Kaggle\"\n",
        "print(greeting[:]) # 전체\n",
        "print(greeting[0]) # 0값을 가져옴\n",
        "print(greeting[6:]) # 6부터 끝까지\n",
        "print(greeting[:6]) # 0부터 6까지\n",
        "print(greeting[3:8]) # 3부터 8까지 가져옴\n",
        "print(greeting[0:9:2]) #0부터 9까지 가져오면서 2칸씩 띄우고 가져옴"
      ],
      "execution_count": null,
      "outputs": [
        {
          "output_type": "stream",
          "name": "stdout",
          "text": [
            "hello Kaggle\n",
            "h\n",
            "Kaggle\n",
            "hello \n",
            "lo Ka\n",
            "hloKg\n"
          ]
        }
      ]
    },
    {
      "cell_type": "markdown",
      "metadata": {
        "id": "nG3H3JZsarEQ"
      },
      "source": [
        "# 리스트"
      ]
    },
    {
      "cell_type": "code",
      "metadata": {
        "colab": {
          "base_uri": "https://localhost:8080/"
        },
        "id": "drxENwj6auJu",
        "outputId": "2cfd0933-78b9-449f-8100-9220b2189dc1"
      },
      "source": [
        "a = [] # 빈리스트\n",
        "a_func = list() #list() 함수로도 빈 리스트를 만들 수 있다.\n",
        "b = [1] # 숫자도 요소가 될 수 있다.\n",
        "c = ['apple'] # 문자열도 요소가 될 수 있다.\n",
        "d = [1,2,['apple']] #리스트 안에 리스트를 요소로 넣을 수있다.\n",
        "print(a)\n",
        "print(b)\n",
        "print(c)\n",
        "print(d)"
      ],
      "execution_count": null,
      "outputs": [
        {
          "output_type": "stream",
          "name": "stdout",
          "text": [
            "[]\n",
            "[1]\n",
            "['apple']\n",
            "[1, 2, ['apple']]\n"
          ]
        }
      ]
    },
    {
      "cell_type": "code",
      "metadata": {
        "colab": {
          "base_uri": "https://localhost:8080/"
        },
        "id": "GVFvyfiZeSxC",
        "outputId": "cde10e92-a633-42eb-ac8b-3168fdd48587"
      },
      "source": [
        " a = [1, 2, 3]\n",
        " # index [0,1,2]\n",
        " print(a[0]) #첫번째 요소\n",
        " print(a[1]) # 두번째 요소\n",
        " print(a[2]) # 세번째 요소\n",
        " print(a[-1])"
      ],
      "execution_count": null,
      "outputs": [
        {
          "output_type": "stream",
          "name": "stdout",
          "text": [
            "1\n",
            "2\n",
            "3\n",
            "3\n"
          ]
        }
      ]
    },
    {
      "cell_type": "code",
      "metadata": {
        "colab": {
          "base_uri": "https://localhost:8080/"
        },
        "id": "aBdPqafretVT",
        "outputId": "ea315fdb-f539-4800-9822-63f454f5b7b4"
      },
      "source": [
        "a = [['apple','banana','cherry']]\n",
        "\n",
        "print(a[0])\n",
        "print(a[0][0]) # 0의 0 인덱스 값\n",
        "print(a[0][0][3]) # 리스트 내의 리스트의 첫번째 문자열 'apple' 중 세번째 인덱스\n",
        "print(a[0][2])"
      ],
      "execution_count": null,
      "outputs": [
        {
          "output_type": "stream",
          "name": "stdout",
          "text": [
            "['apple', 'banana', 'cherry']\n",
            "apple\n",
            "l\n",
            "cherry\n"
          ]
        }
      ]
    },
    {
      "cell_type": "code",
      "metadata": {
        "colab": {
          "base_uri": "https://localhost:8080/"
        },
        "id": "3EmkVXxVfp-g",
        "outputId": "ac39ac8c-467b-4098-be62-47291f2d7d32"
      },
      "source": [
        "a = [1,2,3,4,5,6,7,8,9,10]\n",
        "b = a[:4] # 인덱스 0부터 3까지\n",
        "c = a[1:4] #인덱스 1부터 3까지\n",
        "d = a[0:7:2] #인덱스 0부터 6까지 인덱스 2칸 건너 띄우기\n",
        "f = a[::2] #리스트 전체구간에서 인덱스 2씩 건너띄우기\n",
        "print(\"a[:4] : \",b)\n",
        "print(\"a[1:4] : \",c)\n",
        "print(\"a[0:7:2] : \" , d)\n",
        "print(\"a[::2] : \", f)"
      ],
      "execution_count": null,
      "outputs": [
        {
          "output_type": "stream",
          "name": "stdout",
          "text": [
            "a[:4] :  [1, 2, 3, 4]\n",
            "a[1:4] :  [2, 3, 4]\n",
            "a[0:7:2] :  [1, 3, 5, 7]\n",
            "a[::2] :  [1, 3, 5, 7, 9]\n"
          ]
        }
      ]
    },
    {
      "cell_type": "code",
      "metadata": {
        "colab": {
          "base_uri": "https://localhost:8080/"
        },
        "id": "HZXisQtLg0dd",
        "outputId": "8a2802f2-6157-485e-89f7-40b2955181f4"
      },
      "source": [
        "a = ['alice','bob','cat']\n",
        "b = ['apple','banana','cherry']\n",
        "c = a+b\n",
        "\n",
        "print(c)"
      ],
      "execution_count": null,
      "outputs": [
        {
          "output_type": "stream",
          "name": "stdout",
          "text": [
            "['alice', 'bob', 'cat', 'apple', 'banana', 'cherry']\n"
          ]
        }
      ]
    },
    {
      "cell_type": "markdown",
      "metadata": {
        "id": "Sq4kwoGGhL9-"
      },
      "source": [
        "# 리스트 값 수정하기"
      ]
    },
    {
      "cell_type": "code",
      "metadata": {
        "colab": {
          "base_uri": "https://localhost:8080/"
        },
        "id": "s1ymGEykhPA2",
        "outputId": "753d9694-4b7e-4017-b8e6-aa741d23dd87"
      },
      "source": [
        "a = [0,1,2]\n",
        "a[1] = \"b\" # 인덱스 1열 수정\n",
        "\n",
        "print(a)"
      ],
      "execution_count": null,
      "outputs": [
        {
          "output_type": "stream",
          "name": "stdout",
          "text": [
            "[0, 'b', 2]\n"
          ]
        }
      ]
    },
    {
      "cell_type": "markdown",
      "metadata": {
        "id": "LRpReHhbhea9"
      },
      "source": [
        "# 리스트 값 추가하기"
      ]
    },
    {
      "cell_type": "code",
      "metadata": {
        "colab": {
          "base_uri": "https://localhost:8080/"
        },
        "id": "tNECXlJuhhEj",
        "outputId": "027db17b-2f83-45bb-9bd6-c48ff82da03f"
      },
      "source": [
        "a = [100,200,300]\n",
        "a.append(400)\n",
        "print(a)\n",
        "\n",
        "a.append([500,600])\n",
        "print(a)"
      ],
      "execution_count": null,
      "outputs": [
        {
          "output_type": "stream",
          "name": "stdout",
          "text": [
            "[100, 200, 300, 400]\n",
            "[100, 200, 300, 400, [500, 600]]\n"
          ]
        }
      ]
    },
    {
      "cell_type": "code",
      "metadata": {
        "colab": {
          "base_uri": "https://localhost:8080/"
        },
        "id": "R7y3iTf7hwhn",
        "outputId": "22137761-8485-403c-84b8-83dfc1aab002"
      },
      "source": [
        "a = [1,2,3]\n",
        "a.extend([40,500])\n",
        "print('a.extend([40,500])result')\n",
        "print(a)"
      ],
      "execution_count": null,
      "outputs": [
        {
          "output_type": "stream",
          "name": "stdout",
          "text": [
            "a.extend([40,500])result\n",
            "[1, 2, 3, 40, 500]\n"
          ]
        }
      ]
    },
    {
      "cell_type": "code",
      "metadata": {
        "colab": {
          "base_uri": "https://localhost:8080/"
        },
        "id": "T0NevErOouYO",
        "outputId": "f075cc70-75ef-4be6-9020-5263064c58cf"
      },
      "source": [
        "a = [0,1,2,3]\n",
        "a[2:2] = [100,200]\n",
        "print(a)\n",
        "\n",
        "# 시작과 끝의 범위 보다 큰 수를 덮어쓰는 예시\n",
        "b = [0,1,2,3]\n",
        "b[1:2] = [100,200,300,400]# 1행에서 1행까지 덮어쓰기\n",
        "print(b)\n",
        "\n",
        "# 시작과 끝의 범위가 작을때의 예시\n",
        "c = [0,1,2,3]\n",
        "c[1:3] = [100] #1행에서 2행까지 덮어쓰기\n",
        "print(c)\n",
        "\n"
      ],
      "execution_count": null,
      "outputs": [
        {
          "output_type": "stream",
          "name": "stdout",
          "text": [
            "[0, 1, 100, 200, 2, 3]\n",
            "[0, 100, 200, 300, 400, 2, 3]\n",
            "[0, 100, 3]\n"
          ]
        }
      ]
    },
    {
      "cell_type": "markdown",
      "metadata": {
        "id": "0eSMDVQzreDh"
      },
      "source": [
        "# 리스트 값 삭제하기"
      ]
    },
    {
      "cell_type": "code",
      "metadata": {
        "colab": {
          "base_uri": "https://localhost:8080/"
        },
        "id": "1xSyw0M6rhOW",
        "outputId": "f253bf5b-21c7-4871-a56b-fef0730c34a0"
      },
      "source": [
        "a = [1,2,1,2]\n",
        "\n",
        "#리스트의 첫번째 1이 삭제\n",
        "a.remove(1)\n",
        "print(a)\n"
      ],
      "execution_count": null,
      "outputs": [
        {
          "output_type": "stream",
          "name": "stdout",
          "text": [
            "[2, 1, 2]\n",
            "[2, 2]\n"
          ]
        }
      ]
    },
    {
      "cell_type": "code",
      "metadata": {
        "colab": {
          "base_uri": "https://localhost:8080/"
        },
        "id": "ULIXEtj4sEdd",
        "outputId": "0350081b-7110-4f8f-da82-5209df97c515"
      },
      "source": [
        "a = [0,1,2,3,4,5,6,7,8,9]\n",
        "\n",
        "# 1 삭제\n",
        "del a[1]\n",
        "print(a)\n",
        "\n",
        "b = [0,1,2,3,4,5,6,7,8,9]\n",
        "# 범위로 삭제\n",
        "del b[1:3] #list는 항상 시작하는 인덱스부터 종료하는 n의 n-1까지의 범위를 잡아줍니다.\n",
        "print(b)"
      ],
      "execution_count": null,
      "outputs": [
        {
          "output_type": "stream",
          "name": "stdout",
          "text": [
            "[0, 2, 3, 4, 5, 6, 7, 8, 9]\n",
            "[0, 3, 4, 5, 6, 7, 8, 9]\n"
          ]
        }
      ]
    },
    {
      "cell_type": "code",
      "metadata": {
        "colab": {
          "base_uri": "https://localhost:8080/"
        },
        "id": "kjjcXyEls1M6",
        "outputId": "ca563155-ed99-4e4f-a418-64e16b53f50b"
      },
      "source": [
        "#인덱스를 지정한 pop()\n",
        "a = [0,1,2,3,4]\n",
        "r = a.pop(1)\n",
        "\n",
        "print(a)\n",
        "print(r)"
      ],
      "execution_count": null,
      "outputs": [
        {
          "output_type": "stream",
          "name": "stdout",
          "text": [
            "[0, 2, 3, 4]\n",
            "1\n"
          ]
        }
      ]
    },
    {
      "cell_type": "code",
      "metadata": {
        "colab": {
          "base_uri": "https://localhost:8080/"
        },
        "id": "dWM4EMBstNEq",
        "outputId": "1e205241-8b49-4d75-bb6f-14bfea7a2828"
      },
      "source": [
        "# 인덱스를 지정하지 않은 pop()\n",
        "b = ['a','b','c','d']\n",
        "x = b.pop()\n",
        "\n",
        "print(b)\n",
        "print(x)"
      ],
      "execution_count": null,
      "outputs": [
        {
          "output_type": "stream",
          "name": "stdout",
          "text": [
            "['a', 'b', 'c']\n",
            "d\n"
          ]
        }
      ]
    },
    {
      "cell_type": "markdown",
      "metadata": {
        "id": "1NpgulTztm2v"
      },
      "source": [
        "# 그 외 유용한 메서드"
      ]
    },
    {
      "cell_type": "code",
      "metadata": {
        "colab": {
          "base_uri": "https://localhost:8080/"
        },
        "id": "6VamCFqstqWZ",
        "outputId": "5b42116e-d116-47c1-be63-bc2b024a4365"
      },
      "source": [
        "a = [0,1,2,3]\n",
        "print(a)\n",
        "\n",
        "a.clear()\n",
        "print(a)"
      ],
      "execution_count": null,
      "outputs": [
        {
          "output_type": "stream",
          "name": "stdout",
          "text": [
            "[0, 1, 2, 3]\n",
            "[]\n"
          ]
        }
      ]
    },
    {
      "cell_type": "code",
      "metadata": {
        "id": "FFpzjMTIt4rR",
        "colab": {
          "base_uri": "https://localhost:8080/"
        },
        "outputId": "5361b470-9dff-40bb-cf43-6e42eb137d59"
      },
      "source": [
        "a = [\"gold\",\"gold\",\"silver\",\"silver\"]\n",
        "print(\"sliver가 처음 등장하는 인덱스 번호 : \" ,a.index(\"silver\"))"
      ],
      "execution_count": null,
      "outputs": [
        {
          "output_type": "stream",
          "name": "stdout",
          "text": [
            "sliver가 처음 등장하는 인덱스 번호 2\n"
          ]
        }
      ]
    },
    {
      "cell_type": "code",
      "metadata": {
        "colab": {
          "base_uri": "https://localhost:8080/"
        },
        "id": "-ij-OuLb7laH",
        "outputId": "55d495d5-e06e-4aeb-ad50-b714a9313730"
      },
      "source": [
        "a = [1,4,5,2,3]\n",
        "b = [1,4,5,2,3]\n",
        "\n",
        "a.sort()\n",
        "print(\"sort() : \" ,a) #오름차순\n",
        "\n",
        "b.sort(reverse=True)\n",
        "print(\"sort(reverse=True):\",b) #내림차순"
      ],
      "execution_count": null,
      "outputs": [
        {
          "output_type": "stream",
          "name": "stdout",
          "text": [
            "sort() :  [1, 2, 3, 4, 5]\n",
            "sort(reverse=True): [5, 4, 3, 2, 1]\n"
          ]
        }
      ]
    },
    {
      "cell_type": "markdown",
      "metadata": {
        "id": "6ZOnIBGO8gdw"
      },
      "source": [
        "# 튜플"
      ]
    },
    {
      "cell_type": "code",
      "metadata": {
        "colab": {
          "base_uri": "https://localhost:8080/"
        },
        "id": "wWfAl6yh8i-f",
        "outputId": "736486b3-f70a-4bd3-fb3e-1491a19a5089"
      },
      "source": [
        "tuple1 =(0) #끝에 콤마(,)를 붙이지 않았을 때\n",
        "tuple2 = (0,) #끝에 콤마(,)를 붙여줬을 때\n",
        "tuple3 = 0,1,2\n",
        "\n",
        "print(tuple1)\n",
        "print(tuple2)\n",
        "print(tuple3)\n",
        "\n",
        "print(type(tuple1)) #콤마(,)를 붙여주지 않으면 튜플이 아닙니다.\n",
        "print(type(tuple2)) #콤마(,)를 붙여주어야 튜플 자료형입니다.\n",
        "print(type(tuple3)) #여러개의 값 일 경우 괄호를 없애주어도 튜플 자료형입니다."
      ],
      "execution_count": null,
      "outputs": [
        {
          "output_type": "stream",
          "name": "stdout",
          "text": [
            "0\n",
            "(0,)\n",
            "(0, 1, 2)\n",
            "<class 'int'>\n",
            "<class 'tuple'>\n",
            "<class 'tuple'>\n"
          ]
        }
      ]
    },
    {
      "cell_type": "markdown",
      "metadata": {
        "id": "vK3G3aqB-Gvi"
      },
      "source": [
        "# 더하기 및 곱셈 연산자 사용"
      ]
    },
    {
      "cell_type": "code",
      "metadata": {
        "colab": {
          "base_uri": "https://localhost:8080/"
        },
        "id": "fZie7LwK-QZq",
        "outputId": "c3fa6d5f-7dd1-482d-8921-2c818529daa6"
      },
      "source": [
        "t1 = (0,1,2,3,4)\n",
        "t2 = ('a','b','c')\n",
        "t3 = t1 +t2\n",
        "print(t1+t2)\n",
        "print(t3)"
      ],
      "execution_count": null,
      "outputs": [
        {
          "output_type": "stream",
          "name": "stdout",
          "text": [
            "(0, 1, 2, 3, 4, 'a', 'b', 'c')\n",
            "(0, 1, 2, 3, 4, 'a', 'b', 'c')\n"
          ]
        }
      ]
    },
    {
      "cell_type": "code",
      "metadata": {
        "colab": {
          "base_uri": "https://localhost:8080/"
        },
        "id": "-9dkSozr-qnV",
        "outputId": "b8aa7363-a1e5-408e-84bf-3439d9b116c5"
      },
      "source": [
        "t1 = ('a','b')\n",
        "print(t1 *0)\n",
        "print(t1 *3)"
      ],
      "execution_count": null,
      "outputs": [
        {
          "output_type": "stream",
          "name": "stdout",
          "text": [
            "()\n",
            "('a', 'b', 'a', 'b', 'a', 'b')\n"
          ]
        }
      ]
    },
    {
      "cell_type": "markdown",
      "metadata": {
        "id": "0H3vcH8s-1VK"
      },
      "source": [
        "# 딕셔너리"
      ]
    },
    {
      "cell_type": "code",
      "metadata": {
        "colab": {
          "base_uri": "https://localhost:8080/"
        },
        "id": "lkceZgRU-4Tw",
        "outputId": "2cd17a40-484b-4413-e826-8457532aa279"
      },
      "source": [
        "dic = {'teacher' : \"alice\",'class':5,'student' : 15,'list' : [1,2,3]}\n",
        "print(dic['teacher'])\n",
        "print(dic['class'])\n",
        "print(dic['list'])"
      ],
      "execution_count": null,
      "outputs": [
        {
          "output_type": "stream",
          "name": "stdout",
          "text": [
            "alice\n",
            "5\n",
            "[1, 2, 3]\n"
          ]
        }
      ]
    },
    {
      "cell_type": "code",
      "metadata": {
        "colab": {
          "base_uri": "https://localhost:8080/"
        },
        "id": "_C_V-FTX_2iq",
        "outputId": "e9383508-a884-4f9f-9f94-252eecb859b0"
      },
      "source": [
        "a = {'name' : 'bob' , 'job' : 'farmer', 'age' : 35}\n",
        "a.keys() #키워드를 찾아주는 메서드"
      ],
      "execution_count": null,
      "outputs": [
        {
          "output_type": "execute_result",
          "data": {
            "text/plain": [
              "dict_keys(['name', 'job', 'age'])"
            ]
          },
          "metadata": {},
          "execution_count": 77
        }
      ]
    },
    {
      "cell_type": "code",
      "metadata": {
        "colab": {
          "base_uri": "https://localhost:8080/"
        },
        "id": "xogEgWZjAfK-",
        "outputId": "fb9ba46e-22e0-4dbe-fb12-019f75f802b5"
      },
      "source": [
        "a = {'name' : 'bob' , 'job' : 'farmer', 'age' : 35}\n",
        "a.values() #키워드의 정보를 찾아주는 메서드"
      ],
      "execution_count": null,
      "outputs": [
        {
          "output_type": "execute_result",
          "data": {
            "text/plain": [
              "dict_values(['bob', 'farmer', 35])"
            ]
          },
          "metadata": {},
          "execution_count": 76
        }
      ]
    },
    {
      "cell_type": "code",
      "metadata": {
        "colab": {
          "base_uri": "https://localhost:8080/"
        },
        "id": "oArTml3lApfG",
        "outputId": "7926fb7f-9ec1-4182-f0c2-29dee176e003"
      },
      "source": [
        "a = {'name' : 'cheis', 'job' : 'painter' , 'age' : 30}\n",
        "print(a.get('name'))\n",
        "print(a.get('dinner'))\n",
        "print(a.get('dinner', 'empty'))"
      ],
      "execution_count": null,
      "outputs": [
        {
          "output_type": "stream",
          "name": "stdout",
          "text": [
            "cheis\n",
            "None\n",
            "empty\n"
          ]
        }
      ]
    },
    {
      "cell_type": "markdown",
      "metadata": {
        "id": "4xpqOwTqBFMt"
      },
      "source": [
        "# if조건문"
      ]
    },
    {
      "cell_type": "code",
      "metadata": {
        "colab": {
          "base_uri": "https://localhost:8080/"
        },
        "id": "RRP0cBXeBIjN",
        "outputId": "231bc1a1-cb42-47cf-8b32-4e70ff38ed04"
      },
      "source": [
        "a = -5\n",
        "\n",
        "if a > 5 : \n",
        "  print('a ids bigger than 5')\n",
        "\n",
        "elif a > 0 :\n",
        "  print(\"a is bigger than 0 but a is smaller than 5\")\n",
        "\n",
        "else : \n",
        "  print(\"a is negative\")"
      ],
      "execution_count": null,
      "outputs": [
        {
          "output_type": "stream",
          "name": "stdout",
          "text": [
            "a is negative\n"
          ]
        }
      ]
    },
    {
      "cell_type": "markdown",
      "metadata": {
        "id": "npSVPdupBvxO"
      },
      "source": [
        "# 반복문"
      ]
    },
    {
      "cell_type": "code",
      "metadata": {
        "colab": {
          "base_uri": "https://localhost:8080/"
        },
        "id": "ma7OJHoKBzMU",
        "outputId": "559df770-cfc6-48fc-dd82-673d3fcc778b"
      },
      "source": [
        "for i in range(5) :  # 5번 반복\n",
        "  print(\"hello World\")"
      ],
      "execution_count": null,
      "outputs": [
        {
          "output_type": "stream",
          "name": "stdout",
          "text": [
            "hello World\n",
            "hello World\n",
            "hello World\n",
            "hello World\n",
            "hello World\n"
          ]
        }
      ]
    },
    {
      "cell_type": "code",
      "metadata": {
        "colab": {
          "base_uri": "https://localhost:8080/"
        },
        "id": "cDQDV2V8CGWk",
        "outputId": "151db07e-f8ed-4f0b-9d8a-d7ec6125834c"
      },
      "source": [
        "a = \"Kaggle\"\n",
        "\n",
        "for x in a : # a의 열을 하나씩 반복\n",
        "  print(x)\n",
        "\n",
        "  if x == 'g' :  #g 나오면 브레이크\n",
        "    break"
      ],
      "execution_count": null,
      "outputs": [
        {
          "output_type": "stream",
          "name": "stdout",
          "text": [
            "K\n",
            "a\n",
            "g\n"
          ]
        }
      ]
    }
  ]
}